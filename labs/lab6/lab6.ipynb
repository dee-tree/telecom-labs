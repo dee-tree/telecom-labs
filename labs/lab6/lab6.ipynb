{
 "cells": [
  {
   "cell_type": "markdown",
   "source": [
    "Lab 5 | Discrete cosine transformation (DCT)\n",
    "\n",
    "Made by Dmitriy Sokolov, 3530901/00203"
   ],
   "metadata": {
    "collapsed": false
   }
  },
  {
   "cell_type": "markdown",
   "source": [
    "Firstly, prepare the environment"
   ],
   "metadata": {
    "collapsed": false
   }
  },
  {
   "cell_type": "code",
   "execution_count": 1,
   "metadata": {
    "collapsed": true
   },
   "outputs": [
    {
     "name": "stdout",
     "output_type": "stream",
     "text": [
      "thinkdsp.py successfully download\n"
     ]
    }
   ],
   "source": [
    "from labs.install_deps import require_think_dsp\n",
    "\n",
    "require_think_dsp()"
   ]
  },
  {
   "cell_type": "markdown",
   "source": [
    "-----\n",
    "### Part 1"
   ],
   "metadata": {
    "collapsed": false
   }
  },
  {
   "cell_type": "markdown",
   "source": [
    "Measure time/difference between `analyze2` ($O(n^2 )$) and `analyze1` ($O(n^3 )$) execution speed"
   ],
   "metadata": {
    "collapsed": false
   }
  },
  {
   "cell_type": "code",
   "execution_count": 2,
   "outputs": [],
   "source": [
    "import numpy as np\n",
    "\n",
    "PI2 = np.pi * 2\n",
    "\n",
    "def analyze1(ys, fs, ts):\n",
    "    args = np.outer(ts, fs)\n",
    "    M = np.cos(PI2 * args)\n",
    "    amps = np.linalg.solve(M, ys)\n",
    "    return amps"
   ],
   "metadata": {
    "collapsed": false
   }
  },
  {
   "cell_type": "code",
   "execution_count": 3,
   "outputs": [],
   "source": [
    "def analyze2(ys, fs, ts):\n",
    "    args = np.outer(ts, fs)\n",
    "    M = np.cos(PI2 * args)\n",
    "    amps = M.dot(ys) / 2\n",
    "    return amps"
   ],
   "metadata": {
    "collapsed": false
   }
  },
  {
   "cell_type": "code",
   "execution_count": 44,
   "outputs": [],
   "source": [
    "import scipy.fftpack\n",
    "\n",
    "def scipy_dct(ys, freqs, ts):\n",
    "    return scipy.fftpack.dct(ys, type=3)"
   ],
   "metadata": {
    "collapsed": false
   }
  },
  {
   "cell_type": "markdown",
   "source": [
    "We will measure this funs on uncorrelated noise"
   ],
   "metadata": {
    "collapsed": false
   }
  },
  {
   "cell_type": "code",
   "execution_count": 45,
   "outputs": [
    {
     "data": {
      "text/plain": "(16384,)"
     },
     "execution_count": 45,
     "metadata": {},
     "output_type": "execute_result"
    }
   ],
   "source": [
    "from labs.thinkdsp import UncorrelatedGaussianNoise\n",
    "\n",
    "signal = UncorrelatedGaussianNoise()\n",
    "noise = signal.make_wave(duration=1.0, framerate=16384) # sqrt(16384) = 128 = 2^7\n",
    "noise.ys.shape"
   ],
   "metadata": {
    "collapsed": false
   }
  },
  {
   "cell_type": "code",
   "execution_count": 60,
   "outputs": [],
   "source": [
    "import matplotlib.pyplot as plt\n",
    "from scipy.stats import linregress\n",
    "from labs.thinkdsp import decorate\n",
    "\n",
    "loglog = dict(xscale='log', yscale='log')\n",
    "\n",
    "def plot_bests(ns, bests, color='b'):\n",
    "    plt.plot(ns, bests, color=color)\n",
    "    decorate(**loglog)\n",
    "\n",
    "    x = np.log(ns)\n",
    "    y = np.log(bests)\n",
    "    t = linregress(x,y)\n",
    "    slope = t[0]\n",
    "\n",
    "    return slope"
   ],
   "metadata": {
    "collapsed": false
   }
  },
  {
   "cell_type": "code",
   "execution_count": 6,
   "outputs": [],
   "source": [
    "def measure_fun(ns, func):\n",
    "    results = []\n",
    "    for N in ns:\n",
    "        print(N)\n",
    "        ts = (0.5 + np.arange(N)) / N\n",
    "        freqs = (0.5 + np.arange(N)) / 2\n",
    "        ys = noise.ys[:N]\n",
    "        result = %timeit -r1 -o func(ys, freqs, ts)\n",
    "        results.append(result)\n",
    "\n",
    "    bests = [result.best for result in results]\n",
    "    return bests"
   ],
   "metadata": {
    "collapsed": false
   }
  },
  {
   "cell_type": "markdown",
   "source": [
    "tests frequencies:"
   ],
   "metadata": {
    "collapsed": false
   }
  },
  {
   "cell_type": "code",
   "execution_count": 7,
   "outputs": [
    {
     "data": {
      "text/plain": "array([  64,  128,  256,  512, 1024, 2048, 4096], dtype=int32)"
     },
     "execution_count": 7,
     "metadata": {},
     "output_type": "execute_result"
    }
   ],
   "source": [
    "ns = 2 ** np.arange(6, 13)\n",
    "ns"
   ],
   "metadata": {
    "collapsed": false
   }
  },
  {
   "cell_type": "code",
   "execution_count": 8,
   "outputs": [
    {
     "name": "stdout",
     "output_type": "stream",
     "text": [
      "64\n",
      "133 µs ± 0 ns per loop (mean ± std. dev. of 1 run, 10000 loops each)\n",
      "128\n",
      "438 µs ± 0 ns per loop (mean ± std. dev. of 1 run, 1000 loops each)\n",
      "256\n",
      "1.64 ms ± 0 ns per loop (mean ± std. dev. of 1 run, 1000 loops each)\n",
      "512\n",
      "6.57 ms ± 0 ns per loop (mean ± std. dev. of 1 run, 100 loops each)\n",
      "1024\n",
      "30.5 ms ± 0 ns per loop (mean ± std. dev. of 1 run, 10 loops each)\n",
      "2048\n",
      "184 ms ± 0 ns per loop (mean ± std. dev. of 1 run, 10 loops each)\n",
      "4096\n",
      "1.03 s ± 0 ns per loop (mean ± std. dev. of 1 run, 1 loop each)\n",
      "64\n",
      "43.6 µs ± 0 ns per loop (mean ± std. dev. of 1 run, 10000 loops each)\n",
      "128\n",
      "143 µs ± 0 ns per loop (mean ± std. dev. of 1 run, 10000 loops each)\n",
      "256\n",
      "527 µs ± 0 ns per loop (mean ± std. dev. of 1 run, 1000 loops each)\n",
      "512\n",
      "3.02 ms ± 0 ns per loop (mean ± std. dev. of 1 run, 100 loops each)\n",
      "1024\n",
      "12.1 ms ± 0 ns per loop (mean ± std. dev. of 1 run, 100 loops each)\n",
      "2048\n",
      "48.4 ms ± 0 ns per loop (mean ± std. dev. of 1 run, 10 loops each)\n",
      "4096\n",
      "192 ms ± 0 ns per loop (mean ± std. dev. of 1 run, 1 loop each)\n"
     ]
    }
   ],
   "source": [
    "bests1 = measure_fun(ns, analyze1)\n",
    "bests2 = measure_fun(ns, analyze2)"
   ],
   "metadata": {
    "collapsed": false
   }
  },
  {
   "cell_type": "code",
   "execution_count": 53,
   "outputs": [
    {
     "name": "stdout",
     "output_type": "stream",
     "text": [
      "64\n",
      "10.2 µs ± 0 ns per loop (mean ± std. dev. of 1 run, 100000 loops each)\n",
      "128\n",
      "10.8 µs ± 0 ns per loop (mean ± std. dev. of 1 run, 100000 loops each)\n",
      "256\n",
      "11.4 µs ± 0 ns per loop (mean ± std. dev. of 1 run, 100000 loops each)\n",
      "512\n",
      "9.77 µs ± 0 ns per loop (mean ± std. dev. of 1 run, 100000 loops each)\n",
      "1024\n",
      "10.6 µs ± 0 ns per loop (mean ± std. dev. of 1 run, 100000 loops each)\n",
      "2048\n",
      "15.4 µs ± 0 ns per loop (mean ± std. dev. of 1 run, 100000 loops each)\n",
      "4096\n",
      "28 µs ± 0 ns per loop (mean ± std. dev. of 1 run, 10000 loops each)\n"
     ]
    }
   ],
   "source": [
    "bests3 = measure_fun(ns, scipy_dct)"
   ],
   "metadata": {
    "collapsed": false
   }
  },
  {
   "cell_type": "markdown",
   "source": [
    "analyze1 vs analyze2 vs spicy_dst comparison in plot:"
   ],
   "metadata": {
    "collapsed": false
   }
  },
  {
   "cell_type": "code",
   "execution_count": 58,
   "outputs": [
    {
     "data": {
      "text/plain": "<matplotlib.legend.Legend at 0x2213e068a90>"
     },
     "execution_count": 58,
     "metadata": {},
     "output_type": "execute_result"
    },
    {
     "data": {
      "text/plain": "<Figure size 432x288 with 1 Axes>",
      "image/png": "[encoded data removed]"
     },
     "metadata": {
      "needs_background": "light"
     },
     "output_type": "display_data"
    }
   ],
   "source": [
    "plt.plot(ns, bests1, label='analyze1', color='b')\n",
    "plt.plot(ns, bests2, label='analyze2', color='r')\n",
    "plt.plot(ns, bests3, label='scipy dct', color='g')\n",
    "plt.legend()"
   ],
   "metadata": {
    "collapsed": false
   }
  },
  {
   "cell_type": "code",
   "execution_count": 62,
   "outputs": [
    {
     "data": {
      "text/plain": "2.157405289898639"
     },
     "execution_count": 62,
     "metadata": {},
     "output_type": "execute_result"
    },
    {
     "data": {
      "text/plain": "<Figure size 432x288 with 1 Axes>",
      "image/png": "[encoded data removed]"
     },
     "metadata": {
      "needs_background": "light"
     },
     "output_type": "display_data"
    }
   ],
   "source": [
    "plot_bests(ns, bests1, 'b')"
   ],
   "metadata": {
    "collapsed": false
   }
  },
  {
   "cell_type": "code",
   "execution_count": 64,
   "outputs": [
    {
     "data": {
      "text/plain": "2.059092413788214"
     },
     "execution_count": 64,
     "metadata": {},
     "output_type": "execute_result"
    },
    {
     "data": {
      "text/plain": "<Figure size 432x288 with 1 Axes>",
      "image/png": "[encoded data removed]"
     },
     "metadata": {
      "needs_background": "light"
     },
     "output_type": "display_data"
    }
   ],
   "source": [
    "plot_bests(ns, bests2, 'r')"
   ],
   "metadata": {
    "collapsed": false
   }
  },
  {
   "cell_type": "code",
   "execution_count": 65,
   "outputs": [
    {
     "data": {
      "text/plain": "0.18972195936225156"
     },
     "execution_count": 65,
     "metadata": {},
     "output_type": "execute_result"
    },
    {
     "data": {
      "text/plain": "<Figure size 432x288 with 1 Axes>",
      "image/png": "[encoded data removed]"
     },
     "metadata": {
      "needs_background": "light"
     },
     "output_type": "display_data"
    }
   ],
   "source": [
    "plot_bests(ns, bests3, 'g')"
   ],
   "metadata": {
    "collapsed": false
   }
  },
  {
   "cell_type": "markdown",
   "source": [
    "Expected, that slope of analyze1 and analyze2 would be near with 3 and 2. But they are both close to 2.\n",
    "But one of things expected is analyze2 faster, than analyze1.\n",
    "And scipy sct is faster than others."
   ],
   "metadata": {
    "collapsed": false
   }
  },
  {
   "cell_type": "code",
   "execution_count": 66,
   "outputs": [
    {
     "data": {
      "text/plain": "<Figure size 432x288 with 1 Axes>",
      "image/png": "[encoded data removed]"
     },
     "metadata": {
      "needs_background": "light"
     },
     "output_type": "display_data"
    }
   ],
   "source": [
    "plt.plot(ns, bests1, label='analyze1', color='b')\n",
    "plt.plot(ns, bests2, label='analyze2', color='r')\n",
    "plt.plot(ns, bests3, label='scipy dct', color='g')\n",
    "decorate(xlabel='Wave length (N)', ylabel='Time (s)', **loglog)"
   ],
   "metadata": {
    "collapsed": false
   }
  },
  {
   "cell_type": "code",
   "execution_count": null,
   "outputs": [],
   "source": [],
   "metadata": {
    "collapsed": false
   }
  }
 ],
 "metadata": {
  "kernelspec": {
   "display_name": "Python 3",
   "language": "python",
   "name": "python3"
  },
  "language_info": {
   "codemirror_mode": {
    "name": "ipython",
    "version": 2
   },
   "file_extension": ".py",
   "mimetype": "text/x-python",
   "name": "python",
   "nbconvert_exporter": "python",
   "pygments_lexer": "ipython2",
   "version": "2.7.6"
  }
 },
 "nbformat": 4,
 "nbformat_minor": 0
}
